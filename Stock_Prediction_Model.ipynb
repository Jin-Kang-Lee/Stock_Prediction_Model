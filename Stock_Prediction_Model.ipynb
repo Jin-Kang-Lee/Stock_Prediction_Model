{
 "cells": [
  {
   "cell_type": "code",
   "execution_count": 1,
   "id": "c6c40ffa-05e0-44d0-ae42-56c8da29a6b6",
   "metadata": {},
   "outputs": [],
   "source": [
    "#Summarization of project steps and details\n",
    "\n",
    "#1. Downloading data\n",
    "#2. Preparing data\n",
    "#3. Creating ML model\n",
    "#4. Backtesting\n",
    "#5. Improving accuracy of model\n",
    "#6. Constant improvements - Techniques, Algorithms etc."
   ]
  },
  {
   "cell_type": "code",
   "execution_count": 2,
   "id": "1c03849d-7431-4538-880f-7fb542dbcb8b",
   "metadata": {},
   "outputs": [],
   "source": [
    "import yfinance as yf\n",
    "import pandas as pd\n",
    "import os\n",
    "import json\n",
    "\n",
    "DATA_PATH = \"msft_data.json\"\n",
    "\n",
    "if os.path.exists(DATA_PATH):\n",
    "    # Read from file if we've already downloaded the data.\n",
    "    with open(DATA_PATH) as f:\n",
    "        msft_hist = pd.read_json(DATA_PATH)\n",
    "else:\n",
    "    msft = yf.Ticker(\"MSFT\")\n",
    "    msft_hist = msft.history(period=\"max\")\n",
    "\n",
    "    # Save file to json in case we need it later.  This prevents us from having to re-download it every time.\n",
    "    msft_hist.to_json(DATA_PATH)"
   ]
  },
  {
   "cell_type": "code",
   "execution_count": 3,
   "id": "623573c4-afc1-4180-9ec1-c6e4970403db",
   "metadata": {},
   "outputs": [
    {
     "data": {
      "text/html": [
       "<div>\n",
       "<style scoped>\n",
       "    .dataframe tbody tr th:only-of-type {\n",
       "        vertical-align: middle;\n",
       "    }\n",
       "\n",
       "    .dataframe tbody tr th {\n",
       "        vertical-align: top;\n",
       "    }\n",
       "\n",
       "    .dataframe thead th {\n",
       "        text-align: right;\n",
       "    }\n",
       "</style>\n",
       "<table border=\"1\" class=\"dataframe\">\n",
       "  <thead>\n",
       "    <tr style=\"text-align: right;\">\n",
       "      <th></th>\n",
       "      <th>Open</th>\n",
       "      <th>High</th>\n",
       "      <th>Low</th>\n",
       "      <th>Close</th>\n",
       "      <th>Volume</th>\n",
       "      <th>Dividends</th>\n",
       "      <th>Stock Splits</th>\n",
       "    </tr>\n",
       "  </thead>\n",
       "  <tbody>\n",
       "    <tr>\n",
       "      <th>1986-03-13 05:00:00</th>\n",
       "      <td>0.055121</td>\n",
       "      <td>0.063227</td>\n",
       "      <td>0.055121</td>\n",
       "      <td>0.060524</td>\n",
       "      <td>1031788800</td>\n",
       "      <td>0.0</td>\n",
       "      <td>0.0</td>\n",
       "    </tr>\n",
       "    <tr>\n",
       "      <th>1986-03-14 05:00:00</th>\n",
       "      <td>0.060524</td>\n",
       "      <td>0.063767</td>\n",
       "      <td>0.060524</td>\n",
       "      <td>0.062686</td>\n",
       "      <td>308160000</td>\n",
       "      <td>0.0</td>\n",
       "      <td>0.0</td>\n",
       "    </tr>\n",
       "    <tr>\n",
       "      <th>1986-03-17 05:00:00</th>\n",
       "      <td>0.062686</td>\n",
       "      <td>0.064307</td>\n",
       "      <td>0.062686</td>\n",
       "      <td>0.063767</td>\n",
       "      <td>133171200</td>\n",
       "      <td>0.0</td>\n",
       "      <td>0.0</td>\n",
       "    </tr>\n",
       "    <tr>\n",
       "      <th>1986-03-18 05:00:00</th>\n",
       "      <td>0.063767</td>\n",
       "      <td>0.064308</td>\n",
       "      <td>0.061605</td>\n",
       "      <td>0.062145</td>\n",
       "      <td>67766400</td>\n",
       "      <td>0.0</td>\n",
       "      <td>0.0</td>\n",
       "    </tr>\n",
       "    <tr>\n",
       "      <th>1986-03-19 05:00:00</th>\n",
       "      <td>0.062145</td>\n",
       "      <td>0.062686</td>\n",
       "      <td>0.060524</td>\n",
       "      <td>0.061065</td>\n",
       "      <td>47894400</td>\n",
       "      <td>0.0</td>\n",
       "      <td>0.0</td>\n",
       "    </tr>\n",
       "  </tbody>\n",
       "</table>\n",
       "</div>"
      ],
      "text/plain": [
       "                         Open      High       Low     Close      Volume  \\\n",
       "1986-03-13 05:00:00  0.055121  0.063227  0.055121  0.060524  1031788800   \n",
       "1986-03-14 05:00:00  0.060524  0.063767  0.060524  0.062686   308160000   \n",
       "1986-03-17 05:00:00  0.062686  0.064307  0.062686  0.063767   133171200   \n",
       "1986-03-18 05:00:00  0.063767  0.064308  0.061605  0.062145    67766400   \n",
       "1986-03-19 05:00:00  0.062145  0.062686  0.060524  0.061065    47894400   \n",
       "\n",
       "                     Dividends  Stock Splits  \n",
       "1986-03-13 05:00:00        0.0           0.0  \n",
       "1986-03-14 05:00:00        0.0           0.0  \n",
       "1986-03-17 05:00:00        0.0           0.0  \n",
       "1986-03-18 05:00:00        0.0           0.0  \n",
       "1986-03-19 05:00:00        0.0           0.0  "
      ]
     },
     "execution_count": 3,
     "metadata": {},
     "output_type": "execute_result"
    }
   ],
   "source": [
    "msft_hist.head(5)"
   ]
  },
  {
   "cell_type": "code",
   "execution_count": 4,
   "id": "662f61fd-1c38-479f-b27b-0a3caf62e813",
   "metadata": {},
   "outputs": [
    {
     "data": {
      "text/plain": [
       "<Axes: >"
      ]
     },
     "execution_count": 4,
     "metadata": {},
     "output_type": "execute_result"
    },
    {
     "data": {
      "image/png": "[encoded data removed]",
      "text/plain": [
       "<Figure size 640x480 with 1 Axes>"
      ]
     },
     "metadata": {},
     "output_type": "display_data"
    }
   ],
   "source": [
    "# Visualize MSFT stock prices\n",
    "msft_hist.plot.line(y=\"Close\", use_index=True)"
   ]
  },
  {
   "cell_type": "code",
   "execution_count": 5,
   "id": "da49333d-dfed-4568-b947-e581e0d859be",
   "metadata": {},
   "outputs": [
    {
     "data": {
      "text/plain": [
       "Target\n",
       "1.0    4761\n",
       "0.0    4670\n",
       "Name: count, dtype: int64"
      ]
     },
     "execution_count": 5,
     "metadata": {},
     "output_type": "execute_result"
    }
   ],
   "source": [
    "#Setup our data with our target, target = will the price go up or down tomorrow\n",
    "data = msft_hist[[\"Close\"]]\n",
    "data = data.rename(columns = {'Close':'Actual_Close'})\n",
    "\n",
    "#Using rolling to compare 2 rows at a time\n",
    "data[\"Target\"] = msft_hist.rolling(2).apply(lambda x: x.iloc[1] > x.iloc[0]) [\"Close\"]\n",
    "\n",
    "#Testing if our class has any imbalace\n",
    "data[\"Target\"].value_counts()"
   ]
  },
  {
   "cell_type": "code",
   "execution_count": 6,
   "id": "86ec96c9-5e1c-46be-8b6e-f058470ed88b",
   "metadata": {},
   "outputs": [
    {
     "data": {
      "text/html": [
       "<div>\n",
       "<style scoped>\n",
       "    .dataframe tbody tr th:only-of-type {\n",
       "        vertical-align: middle;\n",
       "    }\n",
       "\n",
       "    .dataframe tbody tr th {\n",
       "        vertical-align: top;\n",
       "    }\n",
       "\n",
       "    .dataframe thead th {\n",
       "        text-align: right;\n",
       "    }\n",
       "</style>\n",
       "<table border=\"1\" class=\"dataframe\">\n",
       "  <thead>\n",
       "    <tr style=\"text-align: right;\">\n",
       "      <th></th>\n",
       "      <th>Actual_Close</th>\n",
       "      <th>Target</th>\n",
       "    </tr>\n",
       "  </thead>\n",
       "  <tbody>\n",
       "    <tr>\n",
       "      <th>1986-03-13 05:00:00</th>\n",
       "      <td>0.060524</td>\n",
       "      <td>NaN</td>\n",
       "    </tr>\n",
       "    <tr>\n",
       "      <th>1986-03-14 05:00:00</th>\n",
       "      <td>0.062686</td>\n",
       "      <td>1.0</td>\n",
       "    </tr>\n",
       "    <tr>\n",
       "      <th>1986-03-17 05:00:00</th>\n",
       "      <td>0.063767</td>\n",
       "      <td>1.0</td>\n",
       "    </tr>\n",
       "    <tr>\n",
       "      <th>1986-03-18 05:00:00</th>\n",
       "      <td>0.062145</td>\n",
       "      <td>0.0</td>\n",
       "    </tr>\n",
       "    <tr>\n",
       "      <th>1986-03-19 05:00:00</th>\n",
       "      <td>0.061065</td>\n",
       "      <td>0.0</td>\n",
       "    </tr>\n",
       "  </tbody>\n",
       "</table>\n",
       "</div>"
      ],
      "text/plain": [
       "                     Actual_Close  Target\n",
       "1986-03-13 05:00:00      0.060524     NaN\n",
       "1986-03-14 05:00:00      0.062686     1.0\n",
       "1986-03-17 05:00:00      0.063767     1.0\n",
       "1986-03-18 05:00:00      0.062145     0.0\n",
       "1986-03-19 05:00:00      0.061065     0.0"
      ]
     },
     "execution_count": 6,
     "metadata": {},
     "output_type": "execute_result"
    }
   ],
   "source": [
    "data.head(5)"
   ]
  },
  {
   "cell_type": "code",
   "execution_count": 7,
   "id": "ddb03b74-ba9e-4047-9d76-eeb6b4358536",
   "metadata": {},
   "outputs": [],
   "source": [
    "#Set up our predictor\n",
    "msft_prev = msft_hist.copy()\n",
    "msft_prev = msft_prev.shift(1)"
   ]
  },
  {
   "cell_type": "code",
   "execution_count": 8,
   "id": "fa657f64-e20a-4ae0-936a-d1553bea0d36",
   "metadata": {},
   "outputs": [
    {
     "data": {
      "text/html": [
       "<div>\n",
       "<style scoped>\n",
       "    .dataframe tbody tr th:only-of-type {\n",
       "        vertical-align: middle;\n",
       "    }\n",
       "\n",
       "    .dataframe tbody tr th {\n",
       "        vertical-align: top;\n",
       "    }\n",
       "\n",
       "    .dataframe thead th {\n",
       "        text-align: right;\n",
       "    }\n",
       "</style>\n",
       "<table border=\"1\" class=\"dataframe\">\n",
       "  <thead>\n",
       "    <tr style=\"text-align: right;\">\n",
       "      <th></th>\n",
       "      <th>Open</th>\n",
       "      <th>High</th>\n",
       "      <th>Low</th>\n",
       "      <th>Close</th>\n",
       "      <th>Volume</th>\n",
       "      <th>Dividends</th>\n",
       "      <th>Stock Splits</th>\n",
       "    </tr>\n",
       "  </thead>\n",
       "  <tbody>\n",
       "    <tr>\n",
       "      <th>1986-03-13 05:00:00</th>\n",
       "      <td>NaN</td>\n",
       "      <td>NaN</td>\n",
       "      <td>NaN</td>\n",
       "      <td>NaN</td>\n",
       "      <td>NaN</td>\n",
       "      <td>NaN</td>\n",
       "      <td>NaN</td>\n",
       "    </tr>\n",
       "    <tr>\n",
       "      <th>1986-03-14 05:00:00</th>\n",
       "      <td>0.055121</td>\n",
       "      <td>0.063227</td>\n",
       "      <td>0.055121</td>\n",
       "      <td>0.060524</td>\n",
       "      <td>1.031789e+09</td>\n",
       "      <td>0.0</td>\n",
       "      <td>0.0</td>\n",
       "    </tr>\n",
       "    <tr>\n",
       "      <th>1986-03-17 05:00:00</th>\n",
       "      <td>0.060524</td>\n",
       "      <td>0.063767</td>\n",
       "      <td>0.060524</td>\n",
       "      <td>0.062686</td>\n",
       "      <td>3.081600e+08</td>\n",
       "      <td>0.0</td>\n",
       "      <td>0.0</td>\n",
       "    </tr>\n",
       "    <tr>\n",
       "      <th>1986-03-18 05:00:00</th>\n",
       "      <td>0.062686</td>\n",
       "      <td>0.064307</td>\n",
       "      <td>0.062686</td>\n",
       "      <td>0.063767</td>\n",
       "      <td>1.331712e+08</td>\n",
       "      <td>0.0</td>\n",
       "      <td>0.0</td>\n",
       "    </tr>\n",
       "    <tr>\n",
       "      <th>1986-03-19 05:00:00</th>\n",
       "      <td>0.063767</td>\n",
       "      <td>0.064308</td>\n",
       "      <td>0.061605</td>\n",
       "      <td>0.062145</td>\n",
       "      <td>6.776640e+07</td>\n",
       "      <td>0.0</td>\n",
       "      <td>0.0</td>\n",
       "    </tr>\n",
       "  </tbody>\n",
       "</table>\n",
       "</div>"
      ],
      "text/plain": [
       "                         Open      High       Low     Close        Volume  \\\n",
       "1986-03-13 05:00:00       NaN       NaN       NaN       NaN           NaN   \n",
       "1986-03-14 05:00:00  0.055121  0.063227  0.055121  0.060524  1.031789e+09   \n",
       "1986-03-17 05:00:00  0.060524  0.063767  0.060524  0.062686  3.081600e+08   \n",
       "1986-03-18 05:00:00  0.062686  0.064307  0.062686  0.063767  1.331712e+08   \n",
       "1986-03-19 05:00:00  0.063767  0.064308  0.061605  0.062145  6.776640e+07   \n",
       "\n",
       "                     Dividends  Stock Splits  \n",
       "1986-03-13 05:00:00        NaN           NaN  \n",
       "1986-03-14 05:00:00        0.0           0.0  \n",
       "1986-03-17 05:00:00        0.0           0.0  \n",
       "1986-03-18 05:00:00        0.0           0.0  \n",
       "1986-03-19 05:00:00        0.0           0.0  "
      ]
     },
     "execution_count": 8,
     "metadata": {},
     "output_type": "execute_result"
    }
   ],
   "source": [
    "msft_prev.head(5)"
   ]
  },
  {
   "cell_type": "code",
   "execution_count": 9,
   "id": "9a9fa819-36cd-4959-913b-bd4619279009",
   "metadata": {},
   "outputs": [],
   "source": [
    "# Create our training data\n",
    "predictors = [\"Close\", \"Open\", \"Volume\", \"High\", \"Low\"]\n",
    "data = data.join(msft_prev[predictors]).iloc[1:]"
   ]
  },
  {
   "cell_type": "code",
   "execution_count": 10,
   "id": "3710c954-5792-4780-90ab-7978aeb8813f",
   "metadata": {},
   "outputs": [
    {
     "data": {
      "text/html": [
       "<div>\n",
       "<style scoped>\n",
       "    .dataframe tbody tr th:only-of-type {\n",
       "        vertical-align: middle;\n",
       "    }\n",
       "\n",
       "    .dataframe tbody tr th {\n",
       "        vertical-align: top;\n",
       "    }\n",
       "\n",
       "    .dataframe thead th {\n",
       "        text-align: right;\n",
       "    }\n",
       "</style>\n",
       "<table border=\"1\" class=\"dataframe\">\n",
       "  <thead>\n",
       "    <tr style=\"text-align: right;\">\n",
       "      <th></th>\n",
       "      <th>Actual_Close</th>\n",
       "      <th>Target</th>\n",
       "      <th>Close</th>\n",
       "      <th>Open</th>\n",
       "      <th>Volume</th>\n",
       "      <th>High</th>\n",
       "      <th>Low</th>\n",
       "    </tr>\n",
       "  </thead>\n",
       "  <tbody>\n",
       "    <tr>\n",
       "      <th>1986-03-14 05:00:00</th>\n",
       "      <td>0.062686</td>\n",
       "      <td>1.0</td>\n",
       "      <td>0.060524</td>\n",
       "      <td>0.055121</td>\n",
       "      <td>1.031789e+09</td>\n",
       "      <td>0.063227</td>\n",
       "      <td>0.055121</td>\n",
       "    </tr>\n",
       "    <tr>\n",
       "      <th>1986-03-17 05:00:00</th>\n",
       "      <td>0.063767</td>\n",
       "      <td>1.0</td>\n",
       "      <td>0.062686</td>\n",
       "      <td>0.060524</td>\n",
       "      <td>3.081600e+08</td>\n",
       "      <td>0.063767</td>\n",
       "      <td>0.060524</td>\n",
       "    </tr>\n",
       "    <tr>\n",
       "      <th>1986-03-18 05:00:00</th>\n",
       "      <td>0.062145</td>\n",
       "      <td>0.0</td>\n",
       "      <td>0.063767</td>\n",
       "      <td>0.062686</td>\n",
       "      <td>1.331712e+08</td>\n",
       "      <td>0.064307</td>\n",
       "      <td>0.062686</td>\n",
       "    </tr>\n",
       "    <tr>\n",
       "      <th>1986-03-19 05:00:00</th>\n",
       "      <td>0.061065</td>\n",
       "      <td>0.0</td>\n",
       "      <td>0.062145</td>\n",
       "      <td>0.063767</td>\n",
       "      <td>6.776640e+07</td>\n",
       "      <td>0.064308</td>\n",
       "      <td>0.061605</td>\n",
       "    </tr>\n",
       "    <tr>\n",
       "      <th>1986-03-20 05:00:00</th>\n",
       "      <td>0.059444</td>\n",
       "      <td>0.0</td>\n",
       "      <td>0.061065</td>\n",
       "      <td>0.062145</td>\n",
       "      <td>4.789440e+07</td>\n",
       "      <td>0.062686</td>\n",
       "      <td>0.060524</td>\n",
       "    </tr>\n",
       "  </tbody>\n",
       "</table>\n",
       "</div>"
      ],
      "text/plain": [
       "                     Actual_Close  Target     Close      Open        Volume  \\\n",
       "1986-03-14 05:00:00      0.062686     1.0  0.060524  0.055121  1.031789e+09   \n",
       "1986-03-17 05:00:00      0.063767     1.0  0.062686  0.060524  3.081600e+08   \n",
       "1986-03-18 05:00:00      0.062145     0.0  0.063767  0.062686  1.331712e+08   \n",
       "1986-03-19 05:00:00      0.061065     0.0  0.062145  0.063767  6.776640e+07   \n",
       "1986-03-20 05:00:00      0.059444     0.0  0.061065  0.062145  4.789440e+07   \n",
       "\n",
       "                         High       Low  \n",
       "1986-03-14 05:00:00  0.063227  0.055121  \n",
       "1986-03-17 05:00:00  0.063767  0.060524  \n",
       "1986-03-18 05:00:00  0.064307  0.062686  \n",
       "1986-03-19 05:00:00  0.064308  0.061605  \n",
       "1986-03-20 05:00:00  0.062686  0.060524  "
      ]
     },
     "execution_count": 10,
     "metadata": {},
     "output_type": "execute_result"
    }
   ],
   "source": [
    "data.head(5)"
   ]
  },
  {
   "cell_type": "code",
   "execution_count": 11,
   "id": "dabeea14-ae85-46ed-8d62-f0eb240f81f7",
   "metadata": {},
   "outputs": [],
   "source": [
    "#Training our Machine Learning Model"
   ]
  },
  {
   "cell_type": "code",
   "execution_count": 12,
   "id": "815c67cb-0ad5-43bc-a932-4e07112b5038",
   "metadata": {},
   "outputs": [
    {
     "data": {
      "text/html": [
       "<style>#sk-container-id-1 {color: black;}#sk-container-id-1 pre{padding: 0;}#sk-container-id-1 div.sk-toggleable {background-color: white;}#sk-container-id-1 label.sk-toggleable__label {cursor: pointer;display: block;width: 100%;margin-bottom: 0;padding: 0.3em;box-sizing: border-box;text-align: center;}#sk-container-id-1 label.sk-toggleable__label-arrow:before {content: \"▸\";float: left;margin-right: 0.25em;color: #696969;}#sk-container-id-1 label.sk-toggleable__label-arrow:hover:before {color: black;}#sk-container-id-1 div.sk-estimator:hover label.sk-toggleable__label-arrow:before {color: black;}#sk-container-id-1 div.sk-toggleable__content {max-height: 0;max-width: 0;overflow: hidden;text-align: left;background-color: #f0f8ff;}#sk-container-id-1 div.sk-toggleable__content pre {margin: 0.2em;color: black;border-radius: 0.25em;background-color: #f0f8ff;}#sk-container-id-1 input.sk-toggleable__control:checked~div.sk-toggleable__content {max-height: 200px;max-width: 100%;overflow: auto;}#sk-container-id-1 input.sk-toggleable__control:checked~label.sk-toggleable__label-arrow:before {content: \"▾\";}#sk-container-id-1 div.sk-estimator input.sk-toggleable__control:checked~label.sk-toggleable__label {background-color: #d4ebff;}#sk-container-id-1 div.sk-label input.sk-toggleable__control:checked~label.sk-toggleable__label {background-color: #d4ebff;}#sk-container-id-1 input.sk-hidden--visually {border: 0;clip: rect(1px 1px 1px 1px);clip: rect(1px, 1px, 1px, 1px);height: 1px;margin: -1px;overflow: hidden;padding: 0;position: absolute;width: 1px;}#sk-container-id-1 div.sk-estimator {font-family: monospace;background-color: #f0f8ff;border: 1px dotted black;border-radius: 0.25em;box-sizing: border-box;margin-bottom: 0.5em;}#sk-container-id-1 div.sk-estimator:hover {background-color: #d4ebff;}#sk-container-id-1 div.sk-parallel-item::after {content: \"\";width: 100%;border-bottom: 1px solid gray;flex-grow: 1;}#sk-container-id-1 div.sk-label:hover label.sk-toggleable__label {background-color: #d4ebff;}#sk-container-id-1 div.sk-serial::before {content: \"\";position: absolute;border-left: 1px solid gray;box-sizing: border-box;top: 0;bottom: 0;left: 50%;z-index: 0;}#sk-container-id-1 div.sk-serial {display: flex;flex-direction: column;align-items: center;background-color: white;padding-right: 0.2em;padding-left: 0.2em;position: relative;}#sk-container-id-1 div.sk-item {position: relative;z-index: 1;}#sk-container-id-1 div.sk-parallel {display: flex;align-items: stretch;justify-content: center;background-color: white;position: relative;}#sk-container-id-1 div.sk-item::before, #sk-container-id-1 div.sk-parallel-item::before {content: \"\";position: absolute;border-left: 1px solid gray;box-sizing: border-box;top: 0;bottom: 0;left: 50%;z-index: -1;}#sk-container-id-1 div.sk-parallel-item {display: flex;flex-direction: column;z-index: 1;position: relative;background-color: white;}#sk-container-id-1 div.sk-parallel-item:first-child::after {align-self: flex-end;width: 50%;}#sk-container-id-1 div.sk-parallel-item:last-child::after {align-self: flex-start;width: 50%;}#sk-container-id-1 div.sk-parallel-item:only-child::after {width: 0;}#sk-container-id-1 div.sk-dashed-wrapped {border: 1px dashed gray;margin: 0 0.4em 0.5em 0.4em;box-sizing: border-box;padding-bottom: 0.4em;background-color: white;}#sk-container-id-1 div.sk-label label {font-family: monospace;font-weight: bold;display: inline-block;line-height: 1.2em;}#sk-container-id-1 div.sk-label-container {text-align: center;}#sk-container-id-1 div.sk-container {/* jupyter's `normalize.less` sets `[hidden] { display: none; }` but bootstrap.min.css set `[hidden] { display: none !important; }` so we also need the `!important` here to be able to override the default hidden behavior on the sphinx rendered scikit-learn.org. See: https://github.com/scikit-learn/scikit-learn/issues/21755 */display: inline-block !important;position: relative;}#sk-container-id-1 div.sk-text-repr-fallback {display: none;}</style><div id=\"sk-container-id-1\" class=\"sk-top-container\"><div class=\"sk-text-repr-fallback\"><pre>RandomForestClassifier(min_samples_split=200, random_state=1)</pre><b>In a Jupyter environment, please rerun this cell to show the HTML representation or trust the notebook. <br />On GitHub, the HTML representation is unable to render, please try loading this page with nbviewer.org.</b></div><div class=\"sk-container\" hidden><div class=\"sk-item\"><div class=\"sk-estimator sk-toggleable\"><input class=\"sk-toggleable__control sk-hidden--visually\" id=\"sk-estimator-id-1\" type=\"checkbox\" checked><label for=\"sk-estimator-id-1\" class=\"sk-toggleable__label sk-toggleable__label-arrow\">RandomForestClassifier</label><div class=\"sk-toggleable__content\"><pre>RandomForestClassifier(min_samples_split=200, random_state=1)</pre></div></div></div></div></div>"
      ],
      "text/plain": [
       "RandomForestClassifier(min_samples_split=200, random_state=1)"
      ]
     },
     "execution_count": 12,
     "metadata": {},
     "output_type": "execute_result"
    }
   ],
   "source": [
    "from sklearn.ensemble import RandomForestClassifier\n",
    "import numpy as np\n",
    "\n",
    "# Create a random forest classification model.  Set min_samples_split high to ensure we don't overfit.\n",
    "model = RandomForestClassifier(n_estimators=100, min_samples_split=200, random_state=1)\n",
    "\n",
    "# Create a train and test set\n",
    "train = data.iloc[:-100]\n",
    "test = data.iloc[-100:]\n",
    "\n",
    "model.fit(train[predictors], train[\"Target\"])"
   ]
  },
  {
   "cell_type": "code",
   "execution_count": 13,
   "id": "b24a7dd5-60c8-49a8-bc34-f71c8705dc72",
   "metadata": {},
   "outputs": [
    {
     "data": {
      "text/plain": [
       "0.5714285714285714"
      ]
     },
     "execution_count": 13,
     "metadata": {},
     "output_type": "execute_result"
    }
   ],
   "source": [
    "from sklearn.metrics import precision_score\n",
    "\n",
    "# Evaluate error of predictions\n",
    "preds = model.predict(test[predictors])\n",
    "preds = pd.Series(preds, index=test.index)\n",
    "precision_score(test[\"Target\"], preds)"
   ]
  },
  {
   "cell_type": "code",
   "execution_count": 14,
   "id": "1ca5c0b6-9d99-410c-a5a0-876f92aeb473",
   "metadata": {},
   "outputs": [
    {
     "data": {
      "text/plain": [
       "2023-03-23 04:00:00    0.0\n",
       "2023-03-24 04:00:00    0.0\n",
       "2023-03-27 04:00:00    1.0\n",
       "2023-03-28 04:00:00    1.0\n",
       "2023-03-29 04:00:00    0.0\n",
       "                      ... \n",
       "2023-08-09 04:00:00    1.0\n",
       "2023-08-10 04:00:00    1.0\n",
       "2023-08-11 04:00:00    0.0\n",
       "2023-08-14 04:00:00    1.0\n",
       "2023-08-15 04:00:00    0.0\n",
       "Length: 100, dtype: float64"
      ]
     },
     "execution_count": 14,
     "metadata": {},
     "output_type": "execute_result"
    }
   ],
   "source": [
    "preds"
   ]
  },
  {
   "cell_type": "code",
   "execution_count": 15,
   "id": "9a739da7-d390-46ca-a159-e81e4e62f86a",
   "metadata": {},
   "outputs": [
    {
     "data": {
      "text/plain": [
       "0.5714285714285714"
      ]
     },
     "execution_count": 15,
     "metadata": {},
     "output_type": "execute_result"
    }
   ],
   "source": [
    "precision_score(test[\"Target\"], preds)"
   ]
  },
  {
   "cell_type": "code",
   "execution_count": 16,
   "id": "4f830cd5-b570-40ac-b234-c68fb7ccf515",
   "metadata": {},
   "outputs": [
    {
     "data": {
      "text/html": [
       "<div>\n",
       "<style scoped>\n",
       "    .dataframe tbody tr th:only-of-type {\n",
       "        vertical-align: middle;\n",
       "    }\n",
       "\n",
       "    .dataframe tbody tr th {\n",
       "        vertical-align: top;\n",
       "    }\n",
       "\n",
       "    .dataframe thead th {\n",
       "        text-align: right;\n",
       "    }\n",
       "</style>\n",
       "<table border=\"1\" class=\"dataframe\">\n",
       "  <thead>\n",
       "    <tr style=\"text-align: right;\">\n",
       "      <th></th>\n",
       "      <th>Target</th>\n",
       "      <th>Predictions</th>\n",
       "    </tr>\n",
       "  </thead>\n",
       "  <tbody>\n",
       "    <tr>\n",
       "      <th>2023-03-23 04:00:00</th>\n",
       "      <td>1.0</td>\n",
       "      <td>0.0</td>\n",
       "    </tr>\n",
       "    <tr>\n",
       "      <th>2023-03-24 04:00:00</th>\n",
       "      <td>1.0</td>\n",
       "      <td>0.0</td>\n",
       "    </tr>\n",
       "    <tr>\n",
       "      <th>2023-03-27 04:00:00</th>\n",
       "      <td>0.0</td>\n",
       "      <td>1.0</td>\n",
       "    </tr>\n",
       "    <tr>\n",
       "      <th>2023-03-28 04:00:00</th>\n",
       "      <td>0.0</td>\n",
       "      <td>1.0</td>\n",
       "    </tr>\n",
       "    <tr>\n",
       "      <th>2023-03-29 04:00:00</th>\n",
       "      <td>1.0</td>\n",
       "      <td>0.0</td>\n",
       "    </tr>\n",
       "    <tr>\n",
       "      <th>...</th>\n",
       "      <td>...</td>\n",
       "      <td>...</td>\n",
       "    </tr>\n",
       "    <tr>\n",
       "      <th>2023-08-09 04:00:00</th>\n",
       "      <td>0.0</td>\n",
       "      <td>1.0</td>\n",
       "    </tr>\n",
       "    <tr>\n",
       "      <th>2023-08-10 04:00:00</th>\n",
       "      <td>1.0</td>\n",
       "      <td>1.0</td>\n",
       "    </tr>\n",
       "    <tr>\n",
       "      <th>2023-08-11 04:00:00</th>\n",
       "      <td>0.0</td>\n",
       "      <td>0.0</td>\n",
       "    </tr>\n",
       "    <tr>\n",
       "      <th>2023-08-14 04:00:00</th>\n",
       "      <td>1.0</td>\n",
       "      <td>1.0</td>\n",
       "    </tr>\n",
       "    <tr>\n",
       "      <th>2023-08-15 04:00:00</th>\n",
       "      <td>0.0</td>\n",
       "      <td>0.0</td>\n",
       "    </tr>\n",
       "  </tbody>\n",
       "</table>\n",
       "<p>100 rows × 2 columns</p>\n",
       "</div>"
      ],
      "text/plain": [
       "                     Target  Predictions\n",
       "2023-03-23 04:00:00     1.0          0.0\n",
       "2023-03-24 04:00:00     1.0          0.0\n",
       "2023-03-27 04:00:00     0.0          1.0\n",
       "2023-03-28 04:00:00     0.0          1.0\n",
       "2023-03-29 04:00:00     1.0          0.0\n",
       "...                     ...          ...\n",
       "2023-08-09 04:00:00     0.0          1.0\n",
       "2023-08-10 04:00:00     1.0          1.0\n",
       "2023-08-11 04:00:00     0.0          0.0\n",
       "2023-08-14 04:00:00     1.0          1.0\n",
       "2023-08-15 04:00:00     0.0          0.0\n",
       "\n",
       "[100 rows x 2 columns]"
      ]
     },
     "execution_count": 16,
     "metadata": {},
     "output_type": "execute_result"
    }
   ],
   "source": [
    "combined = pd.concat({\"Target\": test[\"Target\"], \"Predictions\": preds}, axis=1)\n",
    "\n",
    "combined"
   ]
  },
  {
   "cell_type": "code",
   "execution_count": 17,
   "id": "65513bb7-5651-4dc0-85fb-fbb85c19d1bf",
   "metadata": {},
   "outputs": [
    {
     "data": {
      "text/plain": [
       "<Axes: >"
      ]
     },
     "execution_count": 17,
     "metadata": {},
     "output_type": "execute_result"
    },
    {
     "data": {
      "image/png": "[encoded data removed]",
      "text/plain": [
       "<Figure size 640x480 with 1 Axes>"
      ]
     },
     "metadata": {},
     "output_type": "display_data"
    }
   ],
   "source": [
    "combined.plot()"
   ]
  },
  {
   "cell_type": "code",
   "execution_count": 18,
   "id": "0d1cf8da-ff76-4750-8bda-224d0d83a69d",
   "metadata": {},
   "outputs": [],
   "source": [
    "#Creating backtesting for model\n",
    "\n",
    "#1. Looping through the data\n",
    "#2. Splitting the data up\n",
    "#3. Train the model to predict the new few rows"
   ]
  },
  {
   "cell_type": "code",
   "execution_count": 37,
   "id": "bf2356da-dd35-43ae-b914-5a16590680da",
   "metadata": {},
   "outputs": [],
   "source": [
    "def backtest(data, model, predictors, start=1000, step=500):\n",
    "    predictions = []\n",
    "    # Loop over the dataset in increments\n",
    "    for i in range(start, data.shape[0], step):\n",
    "        # Split into train and test sets\n",
    "        train = data.iloc[0:i].copy()\n",
    "        test = data.iloc[i:(i+step)].copy()\n",
    "        \n",
    "        # Fit the random forest model\n",
    "        model.fit(train[predictors], train[\"Target\"])\n",
    "        \n",
    "        # Make predictions\n",
    "        preds = model.predict_proba(test[predictors])[:,1]\n",
    "        preds = pd.Series(preds, index=test.index)\n",
    "        preds[preds > .6] = 1\n",
    "        preds[preds<=.6] = 0\n",
    "        \n",
    "        # Combine predictions and test values\n",
    "        combined = pd.concat({\"Target\": test[\"Target\"],\"Predictions\": preds}, axis=1)\n",
    "        \n",
    "        predictions.append(combined)\n",
    "    \n",
    "    return pd.concat(predictions)"
   ]
  },
  {
   "cell_type": "code",
   "execution_count": 38,
   "id": "27d417e4-a58e-4a7c-a6a1-62c467998fce",
   "metadata": {},
   "outputs": [],
   "source": [
    "\n",
    "predictions = backtest(data, model, predictors)"
   ]
  },
  {
   "cell_type": "code",
   "execution_count": 39,
   "id": "68d7bc1f-6094-407b-ae1a-52657273c9a6",
   "metadata": {},
   "outputs": [
    {
     "data": {
      "text/plain": [
       "Predictions\n",
       "0.0    7659\n",
       "1.0     772\n",
       "Name: count, dtype: int64"
      ]
     },
     "execution_count": 39,
     "metadata": {},
     "output_type": "execute_result"
    }
   ],
   "source": [
    "# Show how many trades we would make\n",
    "\n",
    "predictions[\"Predictions\"].value_counts()"
   ]
  },
  {
   "cell_type": "code",
   "execution_count": 40,
   "id": "af822074-f4d1-4a35-89b6-5d8d914e133e",
   "metadata": {},
   "outputs": [
    {
     "data": {
      "text/plain": [
       "0.5207253886010362"
      ]
     },
     "execution_count": 40,
     "metadata": {},
     "output_type": "execute_result"
    }
   ],
   "source": [
    "\n",
    "precision_score(predictions[\"Target\"], predictions[\"Predictions\"])"
   ]
  },
  {
   "cell_type": "code",
   "execution_count": 41,
   "id": "a789fe51-3ace-4f1b-a85c-ca451e9f6b73",
   "metadata": {},
   "outputs": [],
   "source": [
    "#Improve on our accuracy by adding more predictors"
   ]
  },
  {
   "cell_type": "code",
   "execution_count": 42,
   "id": "36981b13-aacd-4387-a8c9-c0b182871e77",
   "metadata": {},
   "outputs": [],
   "source": [
    "weekly_mean = data.rolling(7).mean()\n",
    "quarterly_mean = data.rolling(90).mean()\n",
    "annual_mean = data.rolling(365).mean()\n",
    "\n",
    "weekly_trend = data.shift(1).rolling(7).mean()[\"Target\"]"
   ]
  },
  {
   "cell_type": "code",
   "execution_count": 43,
   "id": "1523b008-aa08-41fe-952d-011093aef7c2",
   "metadata": {},
   "outputs": [],
   "source": [
    "\n",
    "data[\"weekly_mean\"] = weekly_mean[\"Close\"] / data[\"Close\"]\n",
    "data[\"quarterly_mean\"] = quarterly_mean[\"Close\"] / data[\"Close\"]\n",
    "data[\"annual_mean\"] = annual_mean[\"Close\"] / data[\"Close\"]\n",
    "\n",
    "data[\"annual_weekly_mean\"] = data[\"annual_mean\"] / data[\"weekly_mean\"]\n",
    "data[\"annual_quarterly_mean\"] = data[\"annual_mean\"] / data[\"quarterly_mean\"]\n",
    "data[\"weekly_trend\"] = weekly_trend\n",
    "\n",
    "data[\"open_close_ratio\"] = data[\"Open\"] / data[\"Close\"]\n",
    "data[\"high_close_ratio\"] = data[\"High\"] / data[\"Close\"]\n",
    "data[\"low_close_ratio\"] = data[\"Low\"] / data[\"Close\"]\n",
    "\n",
    "full_predictors = predictors + [\"weekly_mean\", \"quarterly_mean\", \"annual_mean\", \"annual_weekly_mean\", \"annual_quarterly_mean\", \"weekly_trend\", \"open_close_ratio\", \"high_close_ratio\", \"low_close_ratio\"]"
   ]
  },
  {
   "cell_type": "code",
   "execution_count": 44,
   "id": "36b59b99-acb6-47ba-a8e8-3ef016e883a9",
   "metadata": {},
   "outputs": [],
   "source": [
    "predictions = backtest(data.iloc[365:], model, full_predictors)"
   ]
  },
  {
   "cell_type": "code",
   "execution_count": 45,
   "id": "484b67af-a9ab-4e16-9bc4-1e83e125792b",
   "metadata": {},
   "outputs": [
    {
     "data": {
      "text/plain": [
       "0.5408163265306123"
      ]
     },
     "execution_count": 45,
     "metadata": {},
     "output_type": "execute_result"
    }
   ],
   "source": [
    "precision_score(predictions[\"Target\"], predictions[\"Predictions\"])"
   ]
  },
  {
   "cell_type": "code",
   "execution_count": 46,
   "id": "48e6f404-3485-4b86-aca4-f90d0c9f5615",
   "metadata": {},
   "outputs": [
    {
     "data": {
      "text/plain": [
       "Predictions\n",
       "0.0    7674\n",
       "1.0     392\n",
       "Name: count, dtype: int64"
      ]
     },
     "execution_count": 46,
     "metadata": {},
     "output_type": "execute_result"
    }
   ],
   "source": [
    "predictions[\"Predictions\"].value_counts()"
   ]
  },
  {
   "cell_type": "code",
   "execution_count": null,
   "id": "be7ac91d-38e4-4339-9ced-85ddc4cd0975",
   "metadata": {},
   "outputs": [],
   "source": []
  }
 ],
 "metadata": {
  "kernelspec": {
   "display_name": "Python 3 (ipykernel)",
   "language": "python",
   "name": "python3"
  },
  "language_info": {
   "codemirror_mode": {
    "name": "ipython",
    "version": 3
   },
   "file_extension": ".py",
   "mimetype": "text/x-python",
   "name": "python",
   "nbconvert_exporter": "python",
   "pygments_lexer": "ipython3",
   "version": "3.11.4"
  }
 },
 "nbformat": 4,
 "nbformat_minor": 5
}
